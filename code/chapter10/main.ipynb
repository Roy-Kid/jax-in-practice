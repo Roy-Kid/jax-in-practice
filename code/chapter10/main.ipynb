{
 "cells": [
  {
   "cell_type": "markdown",
   "source": [
    "<h1>Chapter10 \"FAST\"主动反射面的形状调节<span class=\"tocSkip\"></span></h1>\n",
    "<div class=\"toc\"><ul class=\"toc-item\"></ul></div>"
   ],
   "metadata": {
    "toc": true
   }
  },
  {
   "cell_type": "markdown",
   "source": [
    "# 1. 预先检查\n",
    "- <font color=white size=4 face=雅黑>读者可以通过以下代码检查所需要的库是否已经正确安装，若依赖的库未被正确安装，以下代码将会自动安装；</font>\n",
    "- <font color=white size=4 face=雅黑>运行后如果依然显示库未被安装，可以尝试关闭代码窗口后重新打开；</font>"
   ],
   "metadata": {}
  },
  {
   "cell_type": "code",
   "execution_count": 1,
   "source": [
    "!pip install tqdm\n",
    "!pip install pandas\n",
    "!pip install matplotlib\n",
    "!pip install numpy\n",
    "!pip install jax"
   ],
   "outputs": [
    {
     "output_type": "stream",
     "name": "stdout",
     "text": [
      "Requirement already satisfied: tqdm in /home/chengqihao/anaconda3/envs/jax_book_env/lib/python3.9/site-packages (4.62.3)\n",
      "Requirement already satisfied: pandas in /home/chengqihao/anaconda3/envs/jax_book_env/lib/python3.9/site-packages (1.3.3)\n",
      "Requirement already satisfied: numpy>=1.17.3 in /home/chengqihao/anaconda3/envs/jax_book_env/lib/python3.9/site-packages (from pandas) (1.19.5)\n",
      "Requirement already satisfied: pytz>=2017.3 in /home/chengqihao/anaconda3/envs/jax_book_env/lib/python3.9/site-packages (from pandas) (2021.1)\n",
      "Requirement already satisfied: python-dateutil>=2.7.3 in /home/chengqihao/anaconda3/envs/jax_book_env/lib/python3.9/site-packages (from pandas) (2.8.2)\n",
      "Requirement already satisfied: six>=1.5 in /home/chengqihao/anaconda3/envs/jax_book_env/lib/python3.9/site-packages (from python-dateutil>=2.7.3->pandas) (1.15.0)\n",
      "Requirement already satisfied: matplotlib in /home/chengqihao/anaconda3/envs/jax_book_env/lib/python3.9/site-packages (3.4.3)\n",
      "Requirement already satisfied: kiwisolver>=1.0.1 in /home/chengqihao/anaconda3/envs/jax_book_env/lib/python3.9/site-packages (from matplotlib) (1.3.2)\n",
      "Requirement already satisfied: numpy>=1.16 in /home/chengqihao/anaconda3/envs/jax_book_env/lib/python3.9/site-packages (from matplotlib) (1.19.5)\n",
      "Requirement already satisfied: pillow>=6.2.0 in /home/chengqihao/anaconda3/envs/jax_book_env/lib/python3.9/site-packages (from matplotlib) (8.3.2)\n",
      "Requirement already satisfied: python-dateutil>=2.7 in /home/chengqihao/anaconda3/envs/jax_book_env/lib/python3.9/site-packages (from matplotlib) (2.8.2)\n",
      "Requirement already satisfied: pyparsing>=2.2.1 in /home/chengqihao/anaconda3/envs/jax_book_env/lib/python3.9/site-packages (from matplotlib) (2.4.7)\n",
      "Requirement already satisfied: cycler>=0.10 in /home/chengqihao/anaconda3/envs/jax_book_env/lib/python3.9/site-packages (from matplotlib) (0.10.0)\n",
      "Requirement already satisfied: six in /home/chengqihao/anaconda3/envs/jax_book_env/lib/python3.9/site-packages (from cycler>=0.10->matplotlib) (1.15.0)\n",
      "Requirement already satisfied: numpy in /home/chengqihao/anaconda3/envs/jax_book_env/lib/python3.9/site-packages (1.19.5)\n",
      "Requirement already satisfied: jax in /home/chengqihao/anaconda3/envs/jax_book_env/lib/python3.9/site-packages (0.2.21)\n",
      "Requirement already satisfied: numpy>=1.18 in /home/chengqihao/anaconda3/envs/jax_book_env/lib/python3.9/site-packages (from jax) (1.19.5)\n",
      "Requirement already satisfied: scipy>=1.2.1 in /home/chengqihao/anaconda3/envs/jax_book_env/lib/python3.9/site-packages (from jax) (1.7.1)\n",
      "Requirement already satisfied: absl-py in /home/chengqihao/anaconda3/envs/jax_book_env/lib/python3.9/site-packages (from jax) (0.14.0)\n",
      "Requirement already satisfied: opt-einsum in /home/chengqihao/anaconda3/envs/jax_book_env/lib/python3.9/site-packages (from jax) (3.3.0)\n",
      "Requirement already satisfied: six in /home/chengqihao/anaconda3/envs/jax_book_env/lib/python3.9/site-packages (from absl-py->jax) (1.15.0)\n"
     ]
    }
   ],
   "metadata": {}
  },
  {
   "cell_type": "code",
   "execution_count": 2,
   "source": [
    "import jax\n",
    "import jax.numpy as jnp\n",
    "import numpy as np\n",
    "from jax.config import config\n",
    "\n",
    "config.update(\"jax_enable_x64\",True)"
   ],
   "outputs": [],
   "metadata": {}
  },
  {
   "cell_type": "markdown",
   "source": [
    "# 2. 类的导入"
   ],
   "metadata": {}
  },
  {
   "cell_type": "markdown",
   "source": [
    "## 2.1 类型检查\n",
    "- <font color=white size=4 face=雅黑>定义**常数**类 ScalorType, 作为程序输出应该为**常数**时的类型检查；</font>\n",
    "- <font color=white size=4 face=雅黑>定义**长度**类 LengthType, 作为程序输出应该为**长度**时的类型检查；</font>"
   ],
   "metadata": {}
  },
  {
   "cell_type": "code",
   "execution_count": 3,
   "source": [
    "from typing import Union, List, Optional, Set, Callable\n",
    "\n",
    "ScalorType = Union[float, np.ndarray, jnp.ndarray]\n",
    "LengthType = Union[float, np.ndarray, jnp.ndarray]"
   ],
   "outputs": [],
   "metadata": {}
  },
  {
   "cell_type": "markdown",
   "source": [
    "## 2.2 Point类\n",
    "- <font color=white size=4 face=雅黑>对应着三维空间之中的一个点，具有坐标 **(x,y,z)**,以及 **name**参数，具体定义如下；</font>\n",
    "- <font color=white size=4 face=雅黑>如果两个`Point`类的 **name**相等，那么我们就认为这两个点是同一个点，这里**不会**对坐标是否相等进行另外检查；</font>\n",
    "- <font color=white size=4 face=雅黑>如果 **p**是一个`Point`类的实例，则可以通过 **print(p)** 查看该点的信息；</font>"
   ],
   "metadata": {}
  },
  {
   "cell_type": "code",
   "execution_count": 4,
   "source": [
    "class Point(object):\n",
    "    def __init__(self, x: Optional[ScalorType], \n",
    "                       y: Optional[ScalorType] = 0., \n",
    "                       z: Optional[ScalorType] = 0., \n",
    "                       name: str = None):\n",
    "        self.x = x\n",
    "        self.y = y\n",
    "        self.z = z\n",
    "        self.name = name\n",
    "\n",
    "    def __eq__(self, other):\n",
    "        # 如果 P1 和 P2 都是 Point类，且名称（也就是name参数）相同，我们就认为两个点是相同的， \n",
    "        #     ———— 也就是说 P1 == P2 将会返回 True\n",
    "        if type(self) != type(other): return False\n",
    "        return self.name == other.name\n",
    "    \n",
    "    def __str__(self):\n",
    "        # 指定调用print函数时，程序终端将会输出的string\n",
    "        return \"class Point:\\n\\t name = {} \\n\\t position = ({}, {}, {})\".format(self.name, self.x, self.y, self.z)\n",
    "    \n",
    "    @property\n",
    "    def position(self):\n",
    "        return (self.x, self.y, self.z)"
   ],
   "outputs": [],
   "metadata": {}
  },
  {
   "cell_type": "markdown",
   "source": [
    "Point类测试"
   ],
   "metadata": {}
  },
  {
   "cell_type": "code",
   "execution_count": 5,
   "source": [
    "Origin = Point(0., 0., 0., name=\"Origin\")\n",
    "print(Origin)"
   ],
   "outputs": [
    {
     "output_type": "stream",
     "name": "stdout",
     "text": [
      "class Point:\n",
      "\t name = Origin \n",
      "\t position = (0.0, 0.0, 0.0)\n"
     ]
    }
   ],
   "metadata": {}
  },
  {
   "cell_type": "markdown",
   "source": [
    "## 2.3 Vertex类\n",
    "- <font color=white size=4 face=雅黑>`Vertex`类继承自`Point`类，但不同的是，`Point`类代表**空间**之中的一个**点**，而`Vertex`类代表的是**图**上的一个**顶点**；相比于其父类`Point`，`Vertex`类增加了近邻节点的信息，用一个列表**self.adjacent**储存图上近邻的顶点(的指针)</font>\n",
    "- <font color=white size=4 face=雅黑>如果 **v**是一个`Vertex`类的实例，则可以通过 **print(v)** 查看该点的信息；</font>\n",
    "- <font color=white size=4 face=雅黑>如果两个`Vertex`类的 **name**相等，那么我们就认为这两个顶点是同一个点，这里**会对**坐标是否相等进行另外检查；</font>\n",
    "- <font color=white size=4 face=雅黑>`VertexInfo`类用于储存有关于`Vertex`的信息，在这里，信息包括：</font>\n",
    "\n",
    "  - <font color=white size=3.5 face=雅黑>self.idx   : 顶点在主索节点列表之中的位置</font>\n",
    "  - <font color=white size=3.5 face=雅黑>self.status: 顶点目前所在的状态</font>\n",
    "  - <font color=white size=3.5 face=雅黑>self.vertex_init_pos  : 顶点的初始位置</font>\n",
    "  - <font color=white size=3.5 face=雅黑>self.vertex_ground_pos: 顶点对应固定在地面上的促动器的坐标 </font>"
   ],
   "metadata": {}
  },
  {
   "cell_type": "code",
   "execution_count": 6,
   "source": [
    "class VertexInfo(object):\n",
    "    def __init__(self, index:int = -1,\n",
    "                       status: int = -1,\n",
    "                       vertex_init_pos  :np.ndarray = None,\n",
    "                       vertex_ground_pos:np.ndarray = None):\n",
    "        self.idx: int = index     # 储存该顶点在输入 3xN 顶点列表之中的位置\n",
    "        self._status: int = status # 描述该节点目前的状态, 0表示位于工作区，1表示位于工作区外（但不固定），2表示该节点固定\n",
    "        self.vertex_init_pos  : np.ndarray = vertex_init_pos   # 顶点的初始位置\n",
    "        self.vertex_ground_pos: np.ndarray = vertex_ground_pos # 固定在地面上的促动器的坐标 \n",
    "    \n",
    "    @property\n",
    "    def status(self):\n",
    "        if self._status == 0: return \"working\"\n",
    "        if self._status == 1: return \"idling\"\n",
    "        if self._status == 2: return \"fixing\"\n",
    "        return \"unsure\""
   ],
   "outputs": [],
   "metadata": {}
  },
  {
   "cell_type": "code",
   "execution_count": 7,
   "source": [
    "import logging\n",
    "\n",
    "class Vertex(Point):\n",
    "    def __init__(self, name: str, \n",
    "                          x: ScalorType = None, \n",
    "                          y: ScalorType = None, \n",
    "                          z: ScalorType = None,\n",
    "                          info:VertexInfo = None):\n",
    "        super().__init__(x, y, z, name = name)  # 初始化顶点的名称及位置参数\n",
    "        self.adjacent: List[Vertex] = []\n",
    "        self.info : VertexInfo = info\n",
    "\n",
    "    def __eq__(self, other):\n",
    "        # 如果Vertex的名称(name参数)相同，我们就认为两个Vertex是一样的\n",
    "        if type(self) != type(other): return False\n",
    "        if self.name == other.name:\n",
    "            # 如果两个顶点的名称相同，我们将会检查这两个节点的坐标和相邻节点是否相同\n",
    "            # 如若不同，将会在终端产生warning, 但程序并不报错\n",
    "            if self.x != other.x or self.y != other.y or self.z != other.z:\n",
    "                logging.warning(\"Inconsistent position between Vertexes {}:\\n\"\n",
    "                                \"  [self]: {}\\n [other]: {}\".format(self.name, (self.x, self.y, self.z),\n",
    "                                                                   (other.x, other.y, other.z)))\n",
    "            if self.adjacent != other.adjacent:\n",
    "                logging.warning(\"Inconsistent adjacent list between Vertex {}:\\n\"\n",
    "                                \" [self ]: {}\\n [other]: {}\".format(self.name, self.adjacent, other.adjacent))\n",
    "            return True\n",
    "        return False\n",
    "    \n",
    "    def __str__(self):\n",
    "        # 指定调用print函数时，程序终端将会输出的string\n",
    "        return \"class Vertex:\\n\\tname: {}\\n\\tposition: {}\\n\\tadjacent vertex: {}\".\\\n",
    "            format(self.name, (self.x, self.y, self.z), [_.name for _ in self.adjacent])\n",
    "    \n",
    "    def add_adjacent(self, vertex):\n",
    "        # 向顶点的邻近表中添加节点\n",
    "        assert type(self) == type(vertex)\n",
    "        if vertex not in self.adjacent:\n",
    "            self.adjacent.append(vertex)\n",
    "            return True\n",
    "        return False\n",
    "\n",
    "    @property\n",
    "    def n_adjacent(self):\n",
    "        return len(self.adjacent)"
   ],
   "outputs": [],
   "metadata": {}
  },
  {
   "cell_type": "markdown",
   "source": [
    "## 2.4 Edge类\n",
    "- <font color=white size=4 face=雅黑>对应着图上的一条无向边，存有`Edge`的两个顶点,**name**参数为两个顶点对应**name**参数构成的Set；</font>\n",
    "- <font color=white size=4 face=雅黑>如果两个Edge类的 **name**相等，那么我们就认为这两条边相等，这里**不考虑**`Edge`当中顶点的先后顺序；</font>\n",
    "- <font color=white size=4 face=雅黑>如果 **e**是一个`Edge`类的实例，则可以通过 **print(e)** 查看该条边的信息；</font>"
   ],
   "metadata": {}
  },
  {
   "cell_type": "code",
   "execution_count": 8,
   "source": [
    "class Edge(object):\n",
    "    def __init__(self, v1: Vertex, v2: Vertex):\n",
    "        self.v1 = v1\n",
    "        self.v2 = v2\n",
    "        self.name: Set = {v1.name, v2.name}\n",
    "        self.length_init = self.length\n",
    "\n",
    "    def __eq__(self, other):\n",
    "        if type(self) != type(other): return False\n",
    "        return self.name == other.name\n",
    "\n",
    "    def __str__(self):\n",
    "        return \"class Edge: \\n\\t name = {} \\n\\t v1.position = {} \\n\\t v2.position = {} \\n\\t length = {}\".\\\n",
    "        format(self.name, self.v1.position, self.v2.position, self.length)\n",
    "\n",
    "    @property\n",
    "    def length(self) -> LengthType:\n",
    "        # the length of the edge\n",
    "        return ((self.v1.x - self.v2.x) ** 2 + (self.v1.y - self.v2.y) ** 2 + (self.v1.z - self.v2.z) ** 2) ** 0.5"
   ],
   "outputs": [],
   "metadata": {}
  },
  {
   "cell_type": "markdown",
   "source": [
    "Edge类的测试"
   ],
   "metadata": {}
  },
  {
   "cell_type": "code",
   "execution_count": 9,
   "source": [
    "e0 = Edge(Origin, Origin)\n",
    "print(e0)"
   ],
   "outputs": [
    {
     "output_type": "stream",
     "name": "stdout",
     "text": [
      "class Edge: \n",
      "\t name = {'Origin'} \n",
      "\t v1.position = (0.0, 0.0, 0.0) \n",
      "\t v2.position = (0.0, 0.0, 0.0) \n",
      "\t length = 0.0\n"
     ]
    }
   ],
   "metadata": {}
  },
  {
   "cell_type": "markdown",
   "source": [
    "## 2.5 Graph类\n",
    "- <font color=white size=4 face=雅黑>可以直接输入边和顶点的列表，也可以通过顶点的列表构造出边；</font>"
   ],
   "metadata": {}
  },
  {
   "cell_type": "code",
   "execution_count": 10,
   "source": [
    "class Graph(object):\n",
    "    def __init__(self, vertex_list: Optional[List[Vertex]]=[], \n",
    "                       edge_list  : Optional[List[Edge  ]]=[]):\n",
    "        self.vertex_list: List[Vertex] = vertex_list\n",
    "        self.edge_list  : List[Edge  ] = [] if edge_list == None else edge_list\n",
    "\n",
    "    def update_edge(self):\n",
    "        logging.info(\"Updating Edges...\")\n",
    "        from tqdm import tqdm\n",
    "        for v in tqdm(self.vertex_list):\n",
    "            for v_adjacent in v.adjacent:\n",
    "                assert v in v_adjacent.adjacent\n",
    "                edge = Edge(v, v_adjacent)\n",
    "                if edge not in self.edge_list:\n",
    "                    self.edge_list.append(edge)\n",
    "    \n",
    "    @property\n",
    "    def n_edge(self):\n",
    "        return len(self.edge_list)\n",
    "\n",
    "    @property\n",
    "    def n_vertex(self):\n",
    "        return len(self.vertex_list)"
   ],
   "outputs": [],
   "metadata": {}
  },
  {
   "cell_type": "markdown",
   "source": [
    "# 3. 数据的读入"
   ],
   "metadata": {}
  },
  {
   "cell_type": "markdown",
   "source": [
    "## 3.1 从csv文件读入数据，储存在pandas.DataFrame之中，留作备份"
   ],
   "metadata": {}
  },
  {
   "cell_type": "code",
   "execution_count": 11,
   "source": [
    "import pandas as pd\n",
    "\n",
    "vertex_frame = pd.read_csv('./data/vertex.csv',header=0,sep=',')\n",
    "ground_vertex_frame = pd.read_csv('./data/vertex_ground.csv',header=0,sep=',')\n",
    "face_vertex_frame = pd.read_csv('./data/face.csv',header=0,sep=',')"
   ],
   "outputs": [],
   "metadata": {}
  },
  {
   "cell_type": "code",
   "execution_count": 12,
   "source": [
    "vertex_frame.head()"
   ],
   "outputs": [
    {
     "output_type": "execute_result",
     "data": {
      "text/html": [
       "<div>\n",
       "<style scoped>\n",
       "    .dataframe tbody tr th:only-of-type {\n",
       "        vertical-align: middle;\n",
       "    }\n",
       "\n",
       "    .dataframe tbody tr th {\n",
       "        vertical-align: top;\n",
       "    }\n",
       "\n",
       "    .dataframe thead th {\n",
       "        text-align: right;\n",
       "    }\n",
       "</style>\n",
       "<table border=\"1\" class=\"dataframe\">\n",
       "  <thead>\n",
       "    <tr style=\"text-align: right;\">\n",
       "      <th></th>\n",
       "      <th>Index</th>\n",
       "      <th>X</th>\n",
       "      <th>Y</th>\n",
       "      <th>Z</th>\n",
       "    </tr>\n",
       "  </thead>\n",
       "  <tbody>\n",
       "    <tr>\n",
       "      <th>0</th>\n",
       "      <td>A0</td>\n",
       "      <td>0.0000</td>\n",
       "      <td>0.000</td>\n",
       "      <td>-300.4000</td>\n",
       "    </tr>\n",
       "    <tr>\n",
       "      <th>1</th>\n",
       "      <td>B1</td>\n",
       "      <td>6.1078</td>\n",
       "      <td>8.407</td>\n",
       "      <td>-300.2202</td>\n",
       "    </tr>\n",
       "    <tr>\n",
       "      <th>2</th>\n",
       "      <td>C1</td>\n",
       "      <td>9.8827</td>\n",
       "      <td>-3.211</td>\n",
       "      <td>-300.2202</td>\n",
       "    </tr>\n",
       "    <tr>\n",
       "      <th>3</th>\n",
       "      <td>D1</td>\n",
       "      <td>0.0000</td>\n",
       "      <td>-10.391</td>\n",
       "      <td>-300.2202</td>\n",
       "    </tr>\n",
       "    <tr>\n",
       "      <th>4</th>\n",
       "      <td>E1</td>\n",
       "      <td>-9.8827</td>\n",
       "      <td>-3.211</td>\n",
       "      <td>-300.2202</td>\n",
       "    </tr>\n",
       "  </tbody>\n",
       "</table>\n",
       "</div>"
      ],
      "text/plain": [
       "  Index       X       Y         Z\n",
       "0    A0  0.0000   0.000 -300.4000\n",
       "1    B1  6.1078   8.407 -300.2202\n",
       "2    C1  9.8827  -3.211 -300.2202\n",
       "3    D1  0.0000 -10.391 -300.2202\n",
       "4    E1 -9.8827  -3.211 -300.2202"
      ]
     },
     "metadata": {},
     "execution_count": 12
    }
   ],
   "metadata": {}
  },
  {
   "cell_type": "code",
   "execution_count": 13,
   "source": [
    "ground_vertex_frame.head()"
   ],
   "outputs": [
    {
     "output_type": "execute_result",
     "data": {
      "text/html": [
       "<div>\n",
       "<style scoped>\n",
       "    .dataframe tbody tr th:only-of-type {\n",
       "        vertical-align: middle;\n",
       "    }\n",
       "\n",
       "    .dataframe tbody tr th {\n",
       "        vertical-align: top;\n",
       "    }\n",
       "\n",
       "    .dataframe thead th {\n",
       "        text-align: right;\n",
       "    }\n",
       "</style>\n",
       "<table border=\"1\" class=\"dataframe\">\n",
       "  <thead>\n",
       "    <tr style=\"text-align: right;\">\n",
       "      <th></th>\n",
       "      <th>Index</th>\n",
       "      <th>Xg</th>\n",
       "      <th>Yg</th>\n",
       "      <th>Zg</th>\n",
       "    </tr>\n",
       "  </thead>\n",
       "  <tbody>\n",
       "    <tr>\n",
       "      <th>0</th>\n",
       "      <td>A0</td>\n",
       "      <td>0.0000</td>\n",
       "      <td>0.000</td>\n",
       "      <td>-304.7218</td>\n",
       "    </tr>\n",
       "    <tr>\n",
       "      <th>1</th>\n",
       "      <td>B1</td>\n",
       "      <td>6.1935</td>\n",
       "      <td>8.525</td>\n",
       "      <td>-304.4318</td>\n",
       "    </tr>\n",
       "    <tr>\n",
       "      <th>2</th>\n",
       "      <td>C1</td>\n",
       "      <td>10.0227</td>\n",
       "      <td>-3.256</td>\n",
       "      <td>-304.4747</td>\n",
       "    </tr>\n",
       "    <tr>\n",
       "      <th>3</th>\n",
       "      <td>D1</td>\n",
       "      <td>0.0000</td>\n",
       "      <td>-10.538</td>\n",
       "      <td>-304.4868</td>\n",
       "    </tr>\n",
       "    <tr>\n",
       "      <th>4</th>\n",
       "      <td>E1</td>\n",
       "      <td>-10.0214</td>\n",
       "      <td>-3.256</td>\n",
       "      <td>-304.4337</td>\n",
       "    </tr>\n",
       "  </tbody>\n",
       "</table>\n",
       "</div>"
      ],
      "text/plain": [
       "  Index       Xg      Yg        Zg\n",
       "0    A0   0.0000   0.000 -304.7218\n",
       "1    B1   6.1935   8.525 -304.4318\n",
       "2    C1  10.0227  -3.256 -304.4747\n",
       "3    D1   0.0000 -10.538 -304.4868\n",
       "4    E1 -10.0214  -3.256 -304.4337"
      ]
     },
     "metadata": {},
     "execution_count": 13
    }
   ],
   "metadata": {}
  },
  {
   "cell_type": "code",
   "execution_count": 14,
   "source": [
    "face_vertex_frame.head()"
   ],
   "outputs": [
    {
     "output_type": "execute_result",
     "data": {
      "text/html": [
       "<div>\n",
       "<style scoped>\n",
       "    .dataframe tbody tr th:only-of-type {\n",
       "        vertical-align: middle;\n",
       "    }\n",
       "\n",
       "    .dataframe tbody tr th {\n",
       "        vertical-align: top;\n",
       "    }\n",
       "\n",
       "    .dataframe thead th {\n",
       "        text-align: right;\n",
       "    }\n",
       "</style>\n",
       "<table border=\"1\" class=\"dataframe\">\n",
       "  <thead>\n",
       "    <tr style=\"text-align: right;\">\n",
       "      <th></th>\n",
       "      <th>Index1</th>\n",
       "      <th>Index2</th>\n",
       "      <th>Index3</th>\n",
       "    </tr>\n",
       "  </thead>\n",
       "  <tbody>\n",
       "    <tr>\n",
       "      <th>0</th>\n",
       "      <td>A0</td>\n",
       "      <td>B1</td>\n",
       "      <td>C1</td>\n",
       "    </tr>\n",
       "    <tr>\n",
       "      <th>1</th>\n",
       "      <td>A0</td>\n",
       "      <td>B1</td>\n",
       "      <td>A1</td>\n",
       "    </tr>\n",
       "    <tr>\n",
       "      <th>2</th>\n",
       "      <td>A0</td>\n",
       "      <td>C1</td>\n",
       "      <td>D1</td>\n",
       "    </tr>\n",
       "    <tr>\n",
       "      <th>3</th>\n",
       "      <td>A0</td>\n",
       "      <td>D1</td>\n",
       "      <td>E1</td>\n",
       "    </tr>\n",
       "    <tr>\n",
       "      <th>4</th>\n",
       "      <td>A0</td>\n",
       "      <td>E1</td>\n",
       "      <td>A1</td>\n",
       "    </tr>\n",
       "  </tbody>\n",
       "</table>\n",
       "</div>"
      ],
      "text/plain": [
       "  Index1 Index2 Index3\n",
       "0     A0     B1     C1\n",
       "1     A0     B1     A1\n",
       "2     A0     C1     D1\n",
       "3     A0     D1     E1\n",
       "4     A0     E1     A1"
      ]
     },
     "metadata": {},
     "execution_count": 14
    }
   ],
   "metadata": {}
  },
  {
   "cell_type": "code",
   "execution_count": 15,
   "source": [
    "isinstance(face_vertex_frame, pd.DataFrame)"
   ],
   "outputs": [
    {
     "output_type": "execute_result",
     "data": {
      "text/plain": [
       "True"
      ]
     },
     "metadata": {},
     "execution_count": 15
    }
   ],
   "metadata": {}
  },
  {
   "cell_type": "markdown",
   "source": [
    "## 3.2 从pandas.DataFrame之中读出数据，构建出图的网络结构"
   ],
   "metadata": {}
  },
  {
   "cell_type": "markdown",
   "source": [
    "### 3.2.1 读取顶点（主索节点）列表 vertex_frame, 促动器列表 ground_vertex_frame 的数据"
   ],
   "metadata": {}
  },
  {
   "cell_type": "code",
   "execution_count": 16,
   "source": [
    "from tqdm import tqdm\n",
    "vertex_list: List[Vertex] = []\n",
    "print(\"Getting Information...\")\n",
    "for idx in tqdm(range(len(vertex_frame))):\n",
    "    # 获取主索节点的位置信息\n",
    "    vx = vertex_frame[\"X\"][idx]\n",
    "    vy = vertex_frame[\"Y\"][idx]\n",
    "    vz = vertex_frame[\"Z\"][idx]\n",
    "    init_v_pos = np.array([vx, vy, vz], dtype=np.float64)\n",
    "    # 获取主索节点促动器固定处位置的信息\n",
    "    assert vertex_frame[\"Index\"][idx] == ground_vertex_frame[\"Index\"][idx]\n",
    "    gvx = ground_vertex_frame[\"Xg\"][idx]\n",
    "    gvy = ground_vertex_frame[\"Yg\"][idx]\n",
    "    gvz = ground_vertex_frame[\"Zg\"][idx]\n",
    "    gv_pos = np.array([gvx, gvy, gvz], dtype=np.float64)\n",
    "    vertex_info = VertexInfo(index = idx, status=-1, \n",
    "                             vertex_init_pos   =init_v_pos,\n",
    "                             vertex_ground_pos =gv_pos)\n",
    "    vertex_list.append(Vertex(name=vertex_frame[\"Index\"][idx],\n",
    "                              x=vx,\n",
    "                              y=vy,\n",
    "                              z=vz,\n",
    "                              info=vertex_info))\n",
    "\n",
    "print(\"len(vertex_list) = \", len(vertex_list))"
   ],
   "outputs": [
    {
     "output_type": "stream",
     "name": "stdout",
     "text": [
      "Getting Information...\n"
     ]
    },
    {
     "output_type": "stream",
     "name": "stderr",
     "text": [
      "100%|██████████| 2226/2226 [00:00<00:00, 8542.46it/s]"
     ]
    },
    {
     "output_type": "stream",
     "name": "stdout",
     "text": [
      "len(vertex_list) =  2226\n"
     ]
    },
    {
     "output_type": "stream",
     "name": "stderr",
     "text": [
      "\n"
     ]
    }
   ],
   "metadata": {}
  },
  {
   "cell_type": "markdown",
   "source": [
    "### 3.2.2 通过 face_vertex_frame 更新顶点之间的近邻关系"
   ],
   "metadata": {}
  },
  {
   "cell_type": "code",
   "execution_count": 17,
   "source": [
    "print(\"updating adjacent relationships...\")\n",
    "for face_idx in tqdm(range(len(face_vertex_frame))):\n",
    "    # 读取三角反射面三个顶点的 name 参数\n",
    "    v1_name = face_vertex_frame[\"Index1\"][face_idx]\n",
    "    v2_name = face_vertex_frame[\"Index2\"][face_idx]\n",
    "    v3_name = face_vertex_frame[\"Index3\"][face_idx]\n",
    "    # 在 vertex_list 之中根据 name参数 找到相应的顶点，\n",
    "    v1, v2, v3 = None, None, None\n",
    "    for v in vertex_list:\n",
    "        if v.name == v1_name: v1 = v\n",
    "        if v.name == v2_name: v2 = v\n",
    "        if v.name == v3_name: v3 = v\n",
    "        if v1 and v2 and v3: break\n",
    "    \n",
    "    # 更新近邻节点的信息\n",
    "    assert v1 and v2 and v3\n",
    "    v1.add_adjacent(v2)\n",
    "    v1.add_adjacent(v3)\n",
    "    v2.add_adjacent(v3)\n",
    "    v2.add_adjacent(v1)\n",
    "    v3.add_adjacent(v1)\n",
    "    v3.add_adjacent(v2)"
   ],
   "outputs": [
    {
     "output_type": "stream",
     "name": "stdout",
     "text": [
      "updating adjacent relationships...\n"
     ]
    },
    {
     "output_type": "stream",
     "name": "stderr",
     "text": [
      "100%|██████████| 4300/4300 [00:01<00:00, 2809.65it/s]\n"
     ]
    }
   ],
   "metadata": {}
  },
  {
   "cell_type": "markdown",
   "source": [
    "### 3.2.3 构造图"
   ],
   "metadata": {}
  },
  {
   "cell_type": "code",
   "execution_count": 18,
   "source": [
    "FASTnet = Graph(vertex_list = vertex_list)\n",
    "FASTnet.update_edge()\n",
    "print(\"n_edge   = \", FASTnet.n_edge)\n",
    "print(\"n_vertex = \", FASTnet.n_vertex)"
   ],
   "outputs": [
    {
     "output_type": "stream",
     "name": "stderr",
     "text": [
      "100%|██████████| 2226/2226 [00:13<00:00, 170.77it/s]"
     ]
    },
    {
     "output_type": "stream",
     "name": "stdout",
     "text": [
      "n_edge   =  6525\n",
      "n_vertex =  2226\n"
     ]
    },
    {
     "output_type": "stream",
     "name": "stderr",
     "text": [
      "\n"
     ]
    }
   ],
   "metadata": {}
  },
  {
   "cell_type": "markdown",
   "source": [
    "## 3.3 图的测试"
   ],
   "metadata": {}
  },
  {
   "cell_type": "code",
   "execution_count": 19,
   "source": [
    "for i in range(2):\n",
    "    print(FASTnet.vertex_list[i])\n",
    "    print(FASTnet.edge_list[i])"
   ],
   "outputs": [
    {
     "output_type": "stream",
     "name": "stdout",
     "text": [
      "class Vertex:\n",
      "\tname: A0\n",
      "\tposition: (0.0, 0.0, -300.4)\n",
      "\tadjacent vertex: ['B1', 'C1', 'A1', 'D1', 'E1']\n",
      "class Edge: \n",
      "\t name = {'B1', 'A0'} \n",
      "\t v1.position = (0.0, 0.0, -300.4) \n",
      "\t v2.position = (6.1078, 8.407, -300.2202) \n",
      "\t length = 10.393036028033388\n",
      "class Vertex:\n",
      "\tname: B1\n",
      "\tposition: (6.1078, 8.407, -300.2202)\n",
      "\tadjacent vertex: ['C1', 'A0', 'A1', 'B3', 'A3', 'B2']\n",
      "class Edge: \n",
      "\t name = {'C1', 'A0'} \n",
      "\t v1.position = (0.0, 0.0, -300.4) \n",
      "\t v2.position = (9.8827, -3.211, -300.2202) \n",
      "\t length = 10.392815226395589\n"
     ]
    }
   ],
   "metadata": {}
  },
  {
   "cell_type": "markdown",
   "source": [
    "# 4. 能量计算函数的得到"
   ],
   "metadata": {}
  },
  {
   "cell_type": "markdown",
   "source": [
    "## 4.1 判断节点是否处于工作区，分别储存"
   ],
   "metadata": {}
  },
  {
   "cell_type": "code",
   "execution_count": 20,
   "source": [
    "def isworking(x:ScalorType,y:ScalorType,z:ScalorType):\n",
    "    return (x ** 2 + y ** 2) < 150**2"
   ],
   "outputs": [],
   "metadata": {}
  },
  {
   "cell_type": "code",
   "execution_count": 21,
   "source": [
    "vertex_list_working : List[Vertex] = []\n",
    "vertex_list_fixing : List[Vertex]  = []\n",
    "vertex_list_idling : List[Vertex]  = []\n",
    "for i, vertex in enumerate(FASTnet.vertex_list):\n",
    "    if isworking(*vertex.info.vertex_init_pos):\n",
    "        vertex.info._status=0\n",
    "        vertex_list_working.append(vertex)\n",
    "    elif vertex.n_adjacent < 5:\n",
    "        vertex.info._status=2\n",
    "        vertex_list_fixing.append(vertex)\n",
    "    else:\n",
    "        vertex.info._status=1\n",
    "        vertex_list_idling.append(vertex)\n",
    "\n",
    "print(len(vertex_list_working))\n",
    "print(len(vertex_list_fixing))\n",
    "print(len(vertex_list_idling))"
   ],
   "outputs": [
    {
     "output_type": "stream",
     "name": "stdout",
     "text": [
      "706\n",
      "130\n",
      "1390\n"
     ]
    }
   ],
   "metadata": {}
  },
  {
   "cell_type": "markdown",
   "source": [
    "<font color=white size=4 face=雅黑>测试</font>"
   ],
   "metadata": {}
  },
  {
   "cell_type": "code",
   "execution_count": 22,
   "source": [
    "print(vertex_list_working[0].info.status)\n",
    "print(vertex_list_fixing[0].info.status)\n",
    "print(vertex_list_idling[0].info.status)"
   ],
   "outputs": [
    {
     "output_type": "stream",
     "name": "stdout",
     "text": [
      "working\n",
      "fixing\n",
      "idling\n"
     ]
    }
   ],
   "metadata": {}
  },
  {
   "cell_type": "markdown",
   "source": [
    "## 4.2 定义单根连接索的能量, 并用vmap扩展"
   ],
   "metadata": {}
  },
  {
   "cell_type": "code",
   "execution_count": 23,
   "source": [
    "from jax import lax\n",
    "# 超参数\n",
    "\n",
    "k_timer = 1.\n",
    "offset_ratio = 7E-4\n",
    "\n",
    "# 参数\n",
    "D = 30E-3              # 直径（米）\n",
    "A = D**2 * 3.1415 / 4  # 横截面积（米^2）\n",
    "E = 1.8E11             # 杨氏模量（Pa）\n",
    "c1 = E * A\n",
    "\n",
    "def edge_energy(length:LengthType, length_init:LengthType):\n",
    "    delta_L = jnp.abs(length - length_init)\n",
    "    lc = offset_ratio * length_init\n",
    "    K = c1 / lc\n",
    "\n",
    "    return lax.cond(delta_L < lc, lambda x: 0.5 * K * delta_L ** 2, lambda x: 0.5 * K * delta_L ** 2, None)\n",
    "\n",
    "    # if delta_L < lc:\n",
    "    #     return 0.5 * K * delta_L ** 2\n",
    "    # else:\n",
    "    #     return c"
   ],
   "outputs": [],
   "metadata": {}
  },
  {
   "cell_type": "markdown",
   "source": [
    "- <font color=white size=4 face=雅黑>通过vmap扩展到多个长度的map</font>"
   ],
   "metadata": {}
  },
  {
   "cell_type": "code",
   "execution_count": 24,
   "source": [
    "edges_energy = jax.vmap(edge_energy, in_axes = (0,0), out_axes=0, )"
   ],
   "outputs": [],
   "metadata": {}
  },
  {
   "cell_type": "markdown",
   "source": [
    "<font color=white size=4 face=雅黑>可视化</font>"
   ],
   "metadata": {}
  },
  {
   "cell_type": "code",
   "execution_count": 25,
   "source": [
    "import matplotlib.pyplot as plt\n",
    "\n",
    "length_init_test  = 10.\n",
    "length_max_offset_test = length_init_test * offset_ratio * 2.14\n",
    "length_delta_test = jnp.linspace(-length_max_offset_test, length_max_offset_test, 1001)\n",
    "energy = []\n",
    "for dl in length_delta_test:\n",
    "    e = edge_energy(length_init_test+dl, length_init_test)\n",
    "    energy.append(e)\n",
    "\n",
    "\n",
    "plt.plot(length_delta_test, energy)\n",
    "plt.xlabel(\"length offset\")\n",
    "plt.ylabel(\"energy\")"
   ],
   "outputs": [
    {
     "output_type": "stream",
     "name": "stderr",
     "text": [
      "WARNING:absl:No GPU/TPU found, falling back to CPU. (Set TF_CPP_MIN_LOG_LEVEL=0 and rerun for more info.)\n"
     ]
    },
    {
     "output_type": "execute_result",
     "data": {
      "text/plain": [
       "Text(0, 0.5, 'energy')"
      ]
     },
     "metadata": {},
     "execution_count": 25
    },
    {
     "output_type": "display_data",
     "data": {
      "image/png": "[encoded data removed]",
      "text/plain": [
       "<Figure size 432x288 with 1 Axes>"
      ]
     },
     "metadata": {
      "needs_background": "light"
     }
    }
   ],
   "metadata": {}
  },
  {
   "cell_type": "markdown",
   "source": [
    "## 4.3 确定目标抛物面的形状\n",
    "- <font color=white size=4 face=雅黑>此处未给出过程，可以先承认下来</font>"
   ],
   "metadata": {}
  },
  {
   "cell_type": "code",
   "execution_count": 26,
   "source": [
    "def calc_z(x, y, h=300.89097588, R=300.4):\n",
    "    return (x**2+y**2) / (4*(h-R+0.466*R))-h"
   ],
   "outputs": [],
   "metadata": {}
  },
  {
   "cell_type": "markdown",
   "source": [
    "## 4.4 无约束条件下的能量函数"
   ],
   "metadata": {}
  },
  {
   "cell_type": "markdown",
   "source": [
    "<font color=white size=4 face=雅黑>计算初始长度数组 init_length_array， 数组顺序与 graph 之中的 edge_list 同</font>"
   ],
   "metadata": {}
  },
  {
   "cell_type": "code",
   "execution_count": 27,
   "source": [
    "# 注意，因为不需要微分，这里所有的长度都是 numpy.array 格式\n",
    "init_pos_array = np.array(vertex_frame.iloc[:,1:], dtype=np.float64)\n",
    "init_v1_idx = [e.v1.info.idx for e in FASTnet.edge_list]\n",
    "init_v2_idx = [e.v2.info.idx for e in FASTnet.edge_list]\n",
    "init_v1_pos_array = init_pos_array[init_v1_idx,:]  # (nedge, 3)\n",
    "init_v2_pos_array = init_pos_array[init_v2_idx,:]  # (nedge, 3)\n",
    "init_length_array = np.sum((init_v1_pos_array - init_v2_pos_array)**2, axis=-1) ** 0.5  # (nedge,)\n",
    "\n",
    "# 输出测试\n",
    "print(\"len = \", len(init_length_array))\n",
    "print(\"max = \", max(init_length_array))\n",
    "print(\"min = \", min(init_length_array))\n",
    "print(init_length_array[:5])"
   ],
   "outputs": [
    {
     "output_type": "stream",
     "name": "stdout",
     "text": [
      "len =  6525\n",
      "max =  12.417912939379152\n",
      "min =  10.392106868195688\n",
      "[10.39303603 10.39281523 10.39303603 10.39255546 10.39281523]\n"
     ]
    }
   ],
   "metadata": {}
  },
  {
   "cell_type": "markdown",
   "source": [
    "<font color=white size=4 face=雅黑>初始条件下主索节点的位置，用jnp.ndarray格式储存</font>"
   ],
   "metadata": {}
  },
  {
   "cell_type": "code",
   "execution_count": 28,
   "source": [
    "pos_array = jnp.array(vertex_frame.iloc[:,1:])\n",
    "print(pos_array.shape)"
   ],
   "outputs": [
    {
     "output_type": "stream",
     "name": "stdout",
     "text": [
      "(2226, 3)\n"
     ]
    }
   ],
   "metadata": {}
  },
  {
   "cell_type": "markdown",
   "source": [
    "<font color=white size=4 face=雅黑>无约束条件下能量函数的生成</font>"
   ],
   "metadata": {}
  },
  {
   "cell_type": "code",
   "execution_count": 29,
   "source": [
    "\n",
    "def gen_net_energy(net: Graph):\n",
    "    adjacent_idx1 = [e.v1.info.idx for e in net.edge_list]\n",
    "    adjacent_idx2 = [e.v2.info.idx for e in net.edge_list]\n",
    "    \n",
    "    def net_energy(pos_array: jnp.ndarray, init_length_array = init_length_array):\n",
    "        # pos_array 的 shape 是 (nvertex, 3)\n",
    "        v1_array = pos_array[adjacent_idx1,:]  # (nedge, 3)\n",
    "        v2_array = pos_array[adjacent_idx2,:]  # (nedge, 3)\n",
    "        length_array = jnp.sum((v1_array - v2_array)**2, axis=-1) ** 0.5  # (nedge,)：实际连接索们的长度\n",
    "        ene = edges_energy(length_array, init_length_array)\n",
    "        # return jnp.sum(ene)\n",
    "        return ene\n",
    "    return net_energy\n",
    "\n",
    "net_energy = gen_net_energy(FASTnet)  # 无约束条件下能量的计算函数\n",
    "ene_unrestricted = net_energy(pos_array)\n",
    "print(ene_unrestricted)"
   ],
   "outputs": [
    {
     "output_type": "stream",
     "name": "stdout",
     "text": [
      "[0. 0. 0. ... 0. 0. 0.]\n"
     ]
    }
   ],
   "metadata": {}
  },
  {
   "cell_type": "markdown",
   "source": [
    "## 4.5 给无约束的能量函数添加约束，变为有约束能量函数\n",
    "- <font color=white size=4 face=雅黑>如此做目的在于方便扩展，同时提高效率</font>"
   ],
   "metadata": {}
  },
  {
   "cell_type": "code",
   "execution_count": 30,
   "source": [
    "# 之前已经得到的list:\n",
    "#   工作区： vertex_list_working\n",
    "#   过渡区： vertex_list_idling\n",
    "#   固定区： vertex_list_fixing\n",
    "\n",
    "\n",
    "# 获取不同区域主索节点们的index\n",
    "working_vertex_index_list = [v.info.idx for v in vertex_list_working]\n",
    "fixing_vertex_index_list  = [v.info.idx for v in vertex_list_fixing ]\n",
    "idling_vertex_index_list  = [v.info.idx for v in vertex_list_idling ]\n",
    "\n",
    "# 将这些index组合在一起\n",
    "vertex_index_list: List[int] = []\n",
    "vertex_index_list.extend(working_vertex_index_list)  # 先是 working\n",
    "vertex_index_list.extend(idling_vertex_index_list)   # 再放 idling\n",
    "vertex_index_list.extend(fixing_vertex_index_list)   # 最后 fixing\n",
    "print(len(vertex_index_list))\n",
    "print(vertex_index_list[:5])"
   ],
   "outputs": [
    {
     "output_type": "stream",
     "name": "stdout",
     "text": [
      "2226\n",
      "[0, 1, 2, 3, 4]\n"
     ]
    }
   ],
   "metadata": {}
  },
  {
   "cell_type": "code",
   "execution_count": 31,
   "source": [
    "# 上述的 vertex_index_list 指明了所有的 vertex 在以 [working, idling, fixing]的顺序组合后，相比于最初，以一种什么样的方式被打乱，相当于定义了一个置换操作p\n",
    "# 如果我们想要让已经被打乱的 vertex 位置数组重新恢复原本的顺序，就需要求出该置换操作的逆 p_inverse:\n",
    "\n",
    "def inverse_index(p:List[int]):\n",
    "    p = np.array(p)\n",
    "    p_original = np.arange(len(p))\n",
    "    operation = np.vstack([p_original, p]).T.tolist()\n",
    "    operation_inv = sorted(operation, key=lambda x:x[1], reverse=False)\n",
    "    p_inverse = [op[0] for op in operation_inv]\n",
    "    return p_inverse\n",
    "\n",
    "vertex_index_list_inverse = inverse_index(vertex_index_list)\n",
    "plt.plot(vertex_index_list)\n",
    "plt.plot(vertex_index_list_inverse)\n",
    "# plt.plot(np.arange(len(vertex_index_list_inverse)), vertex_index_list_inverse)"
   ],
   "outputs": [
    {
     "output_type": "execute_result",
     "data": {
      "text/plain": [
       "[<matplotlib.lines.Line2D at 0x7f9a84590df0>]"
      ]
     },
     "metadata": {},
     "execution_count": 31
    },
    {
     "output_type": "display_data",
     "data": {
      "image/png": "[encoded data removed]",
      "text/plain": [
       "<Figure size 432x288 with 1 Axes>"
      ]
     },
     "metadata": {
      "needs_background": "light"
     }
    }
   ],
   "metadata": {}
  },
  {
   "cell_type": "code",
   "execution_count": 32,
   "source": [
    "# 生成约束条件下的函数\n",
    "fixing_pos_array = jnp.asarray([[v.x, v.y, v.z] for v in vertex_list_fixing])\n",
    "\n",
    "def gen_net_energy_restricted(energy_fcn:Callable, calc_z_working:Callable):\n",
    "    \n",
    "    def net_energy_restricted(working_xy_array:jnp.ndarray, idling_pos_array:jnp.ndarray):\n",
    "        # 我们先按照约束把工作区主索节点的坐标补全\n",
    "        working_z_array = calc_z_working(working_xy_array[:,0],working_xy_array[:,1])[:,jnp.newaxis]\n",
    "        working_pos_array = jnp.hstack([working_xy_array, working_z_array])\n",
    "\n",
    "        # 将 pos_array 分别 stack 在一起\n",
    "        pos_array = jnp.vstack([working_pos_array, idling_pos_array, fixing_pos_array])\n",
    "\n",
    "        # 将 pos_array 按照原本的顺序排列\n",
    "        pos_array_ordered = pos_array[vertex_index_list_inverse, :]\n",
    "        # pos_array_ordered = pos_array\n",
    "\n",
    "        # 计算得到能量函数\n",
    "        ene = energy_fcn(pos_array_ordered)\n",
    "        return ene\n",
    "    return net_energy_restricted\n",
    "\n",
    "net_energy_restricted = gen_net_energy_restricted(net_energy, calc_z) # 有约束条件下能量的计算函数\n",
    "\n",
    "working_xy_array = jnp.array([[v.x, v.y] for v in vertex_list_working])\n",
    "idling_pos_array = jnp.array([[v.z, v.y, v.z] for v in vertex_list_idling])\n",
    "# print(working_xy_array.shape)\n",
    "# print(idling_pos_array.shape)\n",
    "\n",
    "print(net_energy_restricted(working_xy_array=working_xy_array, idling_pos_array=idling_pos_array))\n",
    "plt.plot(net_energy_restricted(working_xy_array=working_xy_array, idling_pos_array=idling_pos_array))"
   ],
   "outputs": [
    {
     "output_type": "stream",
     "name": "stdout",
     "text": [
      "[428.56408257 428.00686441 428.56408257 ...   0.           0.\n",
      "   0.        ]\n"
     ]
    },
    {
     "output_type": "execute_result",
     "data": {
      "text/plain": [
       "[<matplotlib.lines.Line2D at 0x7f9a844efdc0>]"
      ]
     },
     "metadata": {},
     "execution_count": 32
    },
    {
     "output_type": "display_data",
     "data": {
      "image/png": "[encoded data removed]",
      "text/plain": [
       "<Figure size 432x288 with 1 Axes>"
      ]
     },
     "metadata": {
      "needs_background": "light"
     }
    }
   ],
   "metadata": {}
  },
  {
   "cell_type": "markdown",
   "source": [
    "- <font color=white size=4 face=雅黑>测试</font>"
   ],
   "metadata": {}
  },
  {
   "cell_type": "code",
   "execution_count": 33,
   "source": [
    "# 之前已经得到的list:\n",
    "#   工作区： vertex_list_working\n",
    "#   过渡区： vertex_list_idling\n",
    "#   固定区： vertex_list_fixing\n",
    "\n",
    "working_xy_array = jnp.array([[v.x, v.y] for v in vertex_list_working])\n",
    "idling_pos_array = jnp.array([[v.z, v.y, v.z] for v in vertex_list_idling])\n",
    "print(working_xy_array.shape)\n",
    "print(idling_pos_array.shape)\n",
    "\n",
    "print(net_energy_restricted(working_xy_array=working_xy_array, idling_pos_array=idling_pos_array))"
   ],
   "outputs": [
    {
     "output_type": "stream",
     "name": "stdout",
     "text": [
      "(706, 2)\n",
      "(1390, 3)\n",
      "[428.56408257 428.00686441 428.56408257 ...   0.           0.\n",
      "   0.        ]\n"
     ]
    }
   ],
   "metadata": {}
  },
  {
   "cell_type": "code",
   "execution_count": 34,
   "source": [
    "def status(e:Edge):\n",
    "    return e.v1.info._status + e.v2.info._status"
   ],
   "outputs": [],
   "metadata": {}
  },
  {
   "cell_type": "code",
   "execution_count": 35,
   "source": [
    "status_list = [status(e) for e in FASTnet.edge_list]\n",
    "plt.plot(status_list)"
   ],
   "outputs": [
    {
     "output_type": "execute_result",
     "data": {
      "text/plain": [
       "[<matplotlib.lines.Line2D at 0x7f9ac82b6460>]"
      ]
     },
     "metadata": {},
     "execution_count": 35
    },
    {
     "output_type": "display_data",
     "data": {
      "image/png": "[encoded data removed]",
      "text/plain": [
       "<Figure size 432x288 with 1 Axes>"
      ]
     },
     "metadata": {
      "needs_background": "light"
     }
    }
   ],
   "metadata": {}
  },
  {
   "cell_type": "code",
   "execution_count": 36,
   "source": [
    "!pip install openpyxl"
   ],
   "outputs": [
    {
     "output_type": "stream",
     "name": "stdout",
     "text": [
      "Requirement already satisfied: openpyxl in /home/chengqihao/anaconda3/envs/jax_book_env/lib/python3.9/site-packages (3.0.9)\n",
      "Requirement already satisfied: et-xmlfile in /home/chengqihao/anaconda3/envs/jax_book_env/lib/python3.9/site-packages (from openpyxl) (1.1.0)\n"
     ]
    }
   ],
   "metadata": {}
  }
 ],
 "metadata": {
  "interpreter": {
   "hash": "fe1539ccffc4174380a045c69f82d4e85c80fea24d3aec0c327ecdbfb2c76ae7"
  },
  "kernelspec": {
   "name": "python3",
   "display_name": "Python 3.9.7 64-bit ('jax_book_env': conda)"
  },
  "language_info": {
   "codemirror_mode": {
    "name": "ipython",
    "version": 3
   },
   "file_extension": ".py",
   "mimetype": "text/x-python",
   "name": "python",
   "nbconvert_exporter": "python",
   "pygments_lexer": "ipython3",
   "version": "3.9.7"
  },
  "toc": {
   "base_numbering": 1,
   "nav_menu": {},
   "number_sections": true,
   "sideBar": true,
   "skip_h1_title": true,
   "title_cell": "Table of Contents",
   "title_sidebar": "Contents",
   "toc_cell": true,
   "toc_position": {},
   "toc_section_display": true,
   "toc_window_display": true
  }
 },
 "nbformat": 4,
 "nbformat_minor": 2
}