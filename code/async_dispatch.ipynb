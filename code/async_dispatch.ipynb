{
 "cells": [
  {
   "cell_type": "code",
   "execution_count": 1,
   "source": [
    "import numpy as np\n",
    "import jax.numpy as jnp\n",
    "from time import time\n",
    "import jax\n"
   ],
   "outputs": [],
   "metadata": {}
  },
  {
   "cell_type": "code",
   "execution_count": 7,
   "source": [
    "rng = np.random.default_rng(seed=41)\n",
    "nparr = rng.random((1000, 1000))\n",
    "start = time()\n",
    "np.dot(nparr, nparr) + 3\n",
    "end = time()\n",
    "print(f'numpy costs: {end - start}')\n"
   ],
   "outputs": [
    {
     "output_type": "stream",
     "name": "stdout",
     "text": [
      "numpy costs: 0.03454232215881348\n"
     ]
    }
   ],
   "metadata": {}
  },
  {
   "cell_type": "code",
   "execution_count": 11,
   "source": [
    "key = jax.random.PRNGKey(41)\n",
    "jnparr = jax.random.uniform(key, (1000, 1000))\n",
    "start = time()\n",
    "jnp.dot(jnparr, jnparr) + 3\n",
    "chk1 = time()\n",
    "print(f'set up async: {chk1 - start}')\n",
    "np.asarray(jnp.dot(jnparr, jnparr))\n",
    "end = time()\n",
    "print(f'actual time cost: {end - chk1}')\n"
   ],
   "outputs": [
    {
     "output_type": "stream",
     "name": "stdout",
     "text": [
      "set up async: 0.005863666534423828\n",
      "actual time cost: 0.005933046340942383\n"
     ]
    }
   ],
   "metadata": {}
  },
  {
   "cell_type": "code",
   "execution_count": 13,
   "source": [
    "def f(x):\n",
    "    tmp = 0\n",
    "    for i in range(10):\n",
    "        tmp += x\n",
    "    return tmp\n",
    "x = 10\n",
    "%time jitted_f = jax.jit(f)\n",
    "%time jitted_f(x)\n",
    "%time jitted_f(x)"
   ],
   "outputs": [
    {
     "output_type": "stream",
     "name": "stdout",
     "text": [
      "CPU times: user 60 µs, sys: 24 µs, total: 84 µs\n",
      "Wall time: 87.3 µs\n",
      "CPU times: user 9.49 ms, sys: 5.95 ms, total: 15.4 ms\n",
      "Wall time: 14.2 ms\n",
      "CPU times: user 270 µs, sys: 107 µs, total: 377 µs\n",
      "Wall time: 275 µs\n"
     ]
    },
    {
     "output_type": "execute_result",
     "data": {
      "text/plain": [
       "DeviceArray(100, dtype=int32, weak_type=True)"
      ]
     },
     "metadata": {},
     "execution_count": 13
    }
   ],
   "metadata": {}
  }
 ],
 "metadata": {
  "orig_nbformat": 4,
  "language_info": {
   "name": "python",
   "version": "3.9.7",
   "mimetype": "text/x-python",
   "codemirror_mode": {
    "name": "ipython",
    "version": 3
   },
   "pygments_lexer": "ipython3",
   "nbconvert_exporter": "python",
   "file_extension": ".py"
  },
  "kernelspec": {
   "name": "python3",
   "display_name": "Python 3.9.7 64-bit ('admp': conda)"
  },
  "interpreter": {
   "hash": "d66fa795f891e28e858194dc49d3d0c6b64fdb86be68a08db78559f0b0d3c9c8"
  }
 },
 "nbformat": 4,
 "nbformat_minor": 2
}